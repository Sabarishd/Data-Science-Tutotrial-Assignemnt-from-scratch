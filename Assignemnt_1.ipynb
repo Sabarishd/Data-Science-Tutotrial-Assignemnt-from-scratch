{
  "nbformat": 4,
  "nbformat_minor": 0,
  "metadata": {
    "colab": {
      "name": "Assignemnt 1.ipynb",
      "provenance": [],
      "collapsed_sections": [],
      "authorship_tag": "ABX9TyPKvQkQw7nQLCqZgRzLfitk",
      "include_colab_link": true
    },
    "kernelspec": {
      "name": "python3",
      "display_name": "Python 3"
    },
    "language_info": {
      "name": "python"
    }
  },
  "cells": [
    {
      "cell_type": "markdown",
      "metadata": {
        "id": "view-in-github",
        "colab_type": "text"
      },
      "source": [
        "<a href=\"https://colab.research.google.com/github/Sabarishd/Data-Science-Tutotrial-Assignemnt-from-scratch/blob/main/Assignemnt_1.ipynb\" target=\"_parent\"><img src=\"https://colab.research.google.com/assets/colab-badge.svg\" alt=\"Open In Colab\"/></a>"
      ]
    },
    {
      "cell_type": "markdown",
      "source": [
        "Assignment 1"
      ],
      "metadata": {
        "id": "Frio6sSGmdSu"
      }
    },
    {
      "cell_type": "markdown",
      "source": [
        "Q 1). In the below elements which of them are values or an expression? eg:- values can be\n",
        "integer or string and expressions will be mathematical operators.\n",
        "\n",
        "*\n",
        "\n",
        "&#39;hello&#39;\n",
        "\n",
        "-87.8\n",
        "\n",
        "-\n",
        "\n",
        "/\n",
        "\n",
        "+\n",
        "\n",
        "6"
      ],
      "metadata": {
        "id": "qS9HNUXBmUrb"
      }
    },
    {
      "cell_type": "markdown",
      "source": [
        "Ans : Values are :  Hello , 87.8 , 6\n",
        "Expressions are : * , - , / , +"
      ],
      "metadata": {
        "id": "npV79w3KmiFR"
      }
    },
    {
      "cell_type": "markdown",
      "source": [
        "Q2). What is the difference between string and variable?"
      ],
      "metadata": {
        "id": "nm1KO7W0nL8l"
      }
    },
    {
      "cell_type": "markdown",
      "source": [
        "String : is a sequence of characters/info and which would stored in variable\n",
        "Vaiarble : is a container to store information"
      ],
      "metadata": {
        "id": "fKIjVVwrnPys"
      }
    },
    {
      "cell_type": "markdown",
      "source": [
        "3. Describe three different data types?"
      ],
      "metadata": {
        "id": "jVMzLRWwnw71"
      }
    },
    {
      "cell_type": "markdown",
      "source": [
        "Integer : It is numerical whole number value \n",
        "Float : It is decimal number value\n",
        "string : It is a sequence of characters"
      ],
      "metadata": {
        "id": "7yL1Hbmqn1qU"
      }
    },
    {
      "cell_type": "markdown",
      "source": [
        "Q4)What is an expression made up of? What do all expressions do?\n",
        "Ans: \n",
        "An expression is a combination of operators and operands that is interpreted to produce some other value"
      ],
      "metadata": {
        "id": "9heQiyTTpEI1"
      }
    },
    {
      "cell_type": "markdown",
      "source": [
        "6. After running the following code, what does the variable bacon contain?\n",
        "bacon = 22\n",
        "bacon + 1\n",
        "\n",
        "Ans : 23"
      ],
      "metadata": {
        "id": "RmaxRllkpZL2"
      }
    },
    {
      "cell_type": "markdown",
      "source": [
        "7. What should the values of the following two terms be?\n",
        "&#39;spam&#39; + &#39;spamspam&#39;\n",
        "&#39;spam&#39; * 3"
      ],
      "metadata": {
        "id": "7IsFawjJpik6"
      }
    },
    {
      "cell_type": "markdown",
      "source": [
        "First Ans: spamspamspam \n",
        "Second Ans : spamspamspam\n"
      ],
      "metadata": {
        "id": "cRMKqjSnp7P9"
      }
    },
    {
      "cell_type": "markdown",
      "source": [
        "Q8. Why is eggs a valid variable name while 100 is invalid?\n",
        "\n",
        "Ans : Always Variable should starts with character and followed by that's why eggs is a valid variable number and 100 is not a valid"
      ],
      "metadata": {
        "id": "J0mjM2sFqHNn"
      }
    },
    {
      "cell_type": "markdown",
      "source": [
        "Q9)What three functions can be used to get the integer, floating-point number, or string\n",
        "version of a value?"
      ],
      "metadata": {
        "id": "c20Of1LEqi7e"
      }
    },
    {
      "cell_type": "markdown",
      "source": [
        "Ans: int() , float(),str()"
      ],
      "metadata": {
        "id": "_Ue4kJypqltl"
      }
    },
    {
      "cell_type": "markdown",
      "source": [
        "Q10. Why does this expression cause an error? How can you fix it?\n",
        "&#39;I have eaten &#39; + 99 + &#39; burritos.&#39;"
      ],
      "metadata": {
        "id": "wWASGRbHqukE"
      }
    },
    {
      "cell_type": "markdown",
      "source": [
        "Ans : While concating we need concat same type of data types . e.g str can be perfomed with string and integer can be performed with integer.\n",
        "\n",
        "Above code can be fixed with \" I have eaten\"+\"99\"+\"Burritos\""
      ],
      "metadata": {
        "id": "tj3w0x2KqxLv"
      }
    },
    {
      "cell_type": "code",
      "source": [
        ""
      ],
      "metadata": {
        "id": "oyL0rev0rc19"
      },
      "execution_count": null,
      "outputs": []
    }
  ]
}