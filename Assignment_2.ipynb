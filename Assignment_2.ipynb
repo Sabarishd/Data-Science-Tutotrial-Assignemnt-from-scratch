{
  "nbformat": 4,
  "nbformat_minor": 0,
  "metadata": {
    "colab": {
      "name": "Assignment 2",
      "provenance": [],
      "authorship_tag": "ABX9TyOI0a68CopOk8erPbEHD57A",
      "include_colab_link": true
    },
    "kernelspec": {
      "name": "python3",
      "display_name": "Python 3"
    },
    "language_info": {
      "name": "python"
    }
  },
  "cells": [
    {
      "cell_type": "markdown",
      "metadata": {
        "id": "view-in-github",
        "colab_type": "text"
      },
      "source": [
        "<a href=\"https://colab.research.google.com/github/Sabarishd/Data-Science-Tutotrial-Assignemnt-from-scratch/blob/main/Assignment_2.ipynb\" target=\"_parent\"><img src=\"https://colab.research.google.com/assets/colab-badge.svg\" alt=\"Open In Colab\"/></a>"
      ]
    },
    {
      "cell_type": "markdown",
      "source": [
        "Q1.What are the two values of the Boolean data type? How do you write them?\n",
        "\n",
        "Ans. True /False"
      ],
      "metadata": {
        "id": "HIMD_PQhnDSb"
      }
    },
    {
      "cell_type": "markdown",
      "source": [
        "Q2. What are the three different types of Boolean operators?\n",
        "Ans. And /or /not"
      ],
      "metadata": {
        "id": "h_G7oxXmlrRC"
      }
    },
    {
      "cell_type": "markdown",
      "source": [
        "3. Make a list of each Boolean operator&#39;s truth tables (i.e. every possible combination of Boolean\n",
        "values for the operator and what it evaluate ).\n",
        "\n",
        "And Gate\n",
        "\n",
        "0 0 0                                                                           \n",
        "\n",
        "0 1 0\n",
        "\n",
        "1 0 0\n",
        "\n",
        "1 1 1\n",
        "\n",
        "OR Gate\n",
        "\n",
        "0 0 0 \n",
        "\n",
        "1 0 1\n",
        "\n",
        "0 1 1\n",
        "\n",
        "1 1 1\n",
        "\n",
        "NOT Gate\n",
        "\n",
        "1 0\n",
        "\n",
        "0 1\n"
      ],
      "metadata": {
        "id": "uHXhcQrPouxV"
      }
    },
    {
      "cell_type": "markdown",
      "source": [
        "4. What are the values of the following expressions?\n",
        "\n",
        "(5 &gt; 4) and (3 == 5) **Ans : False**\n",
        "\n",
        "not (5 &gt; 4) **Ans : False**\n",
        "\n",
        "(5 &gt; 4) or (3 == 5) **Ans: True**\n",
        "\n",
        "not ((5 &gt; 4) or (3 == 5)) **Ans: False**\n",
        "\n",
        "(True and True) and (True == False) **ANs : False**\n",
        "\n",
        "(not False) or (not True) **Ans: True**"
      ],
      "metadata": {
        "id": "YJIw0_8Oou7t"
      }
    },
    {
      "cell_type": "markdown",
      "source": [
        "Q5. What are the six comparison operators?\n",
        "\n",
        "\n",
        "\n",
        "1.   Less Than <\n",
        "2.   Greater Than >\n",
        "3.   Less than equal to <=\n",
        "4.   Greater than equal to >=\n",
        "5.   Equal To ==\n",
        "6.   Not Equal To !=\n",
        "\n",
        "\n"
      ],
      "metadata": {
        "id": "F004SBc_qw1U"
      }
    },
    {
      "cell_type": "markdown",
      "source": [
        "Q6. How do you tell the difference between the equal to and assignment operators?Describe a\n",
        "condition and when you would use one.\n",
        "\n",
        "Ans : Equal to is checking the value of both Left and Right Hand Value (e.g) 5 == 5 , 10 == 10\n",
        "\n",
        "Assignment is to use allocate the value to variable (e.g) a = 10 , b = 12\n"
      ],
      "metadata": {
        "id": "TyosnuPdrRe4"
      }
    },
    {
      "cell_type": "markdown",
      "source": [
        "7. Identify the three blocks in this code:\n",
        "\n",
        "spam = 0\n",
        "\n",
        "if spam == 10:\n",
        "\n",
        "print(&#39;eggs&#39;)\n",
        "\n",
        "if spam &gt; 5:\n",
        "\n",
        "print(&#39;bacon&#39;)\n",
        "\n",
        "else:\n",
        "\n",
        "print(&#39;ham&#39;)\n",
        "\n",
        "print(&#39;spam&#39;)\n",
        "\n",
        "print(&#39;spam&#39;)\n",
        "\n",
        "\n",
        "Answer:\n",
        "**First block** \n",
        "\n",
        "if spam == 10:\n",
        "\n",
        "print(&#39;eggs&#39;)\n",
        "**Second Block**\n",
        "if spam &gt; 5:\n",
        "\n",
        "print(&#39;bacon&#39;)\n",
        "\n",
        "**Third Block**\n",
        "\n",
        "else:\n",
        "\n",
        "print(&#39;ham&#39;)\n"
      ],
      "metadata": {
        "id": "EJsZZwyWrRiB"
      }
    },
    {
      "cell_type": "markdown",
      "source": [
        "Q8. Write code that prints Hello if 1 is stored in spam, prints Howdy if 2 is stored in spam, and prints\n",
        "Greetings! if anything else is stored in spam.\n",
        "\n",
        "\n",
        "if spam == 1:\n",
        "\n",
        "    print('Hello')\n",
        "\n",
        "elif spam == 2:\n",
        "\n",
        "    print('Howdy')\n",
        "\n",
        "else:\n",
        "\n",
        "    print('Greetings!')"
      ],
      "metadata": {
        "id": "qZpnPN5TrRyN"
      }
    },
    {
      "cell_type": "markdown",
      "source": [
        "Q9.If your programme is stuck in an endless loop, what keys you’ll press?\n",
        "\n",
        "Ans:\n",
        "CTRL +C"
      ],
      "metadata": {
        "id": "BNBJ1957tmb8"
      }
    },
    {
      "cell_type": "markdown",
      "source": [
        "Q10. How can you tell the difference between break and continue?\n",
        "\n",
        "Ans\n",
        "Break statement : if condition mets then it will break the loop and it will not iterate other iterable\n",
        "\n",
        "Continue statement : if condition mets then it will pass to the loop and it will continue to iterate"
      ],
      "metadata": {
        "id": "O2Mdoqtvtme6"
      }
    },
    {
      "cell_type": "markdown",
      "source": [
        "Q11. In a for loop, what is the difference between range(10), range(0, 10), and range(0, 10, 1)?\n",
        "\n",
        "Ans:\n",
        "Range(10) : it will return the values from 0 to 9 exclude Upper bound value(10)\n",
        "Range(0,10): It will return the values from 0 to 9 exclude Upper bound value(10) but explicitly we mention the starting range\n",
        "Range(0,10,1) :It will return the values from 0 to 9 exclude Upper bound value(10) but it says the step value increment by 1\n",
        "\n",
        "All the 3 condition will return the same value"
      ],
      "metadata": {
        "id": "mmy2oXnCtmjU"
      }
    },
    {
      "cell_type": "markdown",
      "source": [
        "Q12. Write a short program that prints the numbers 1 to 10 using a for loop. Then write an equivalent\n",
        "program that prints the numbers 1 to 10 using a while loop.\n",
        "\n",
        "**for looP**\n",
        "\n",
        "for i in range(1,11):\n",
        "\n",
        "  print(i)\n",
        "\n",
        "  **while Loop**\n",
        "\n",
        "  i =1\n",
        "\n",
        "while i <= 10:\n",
        "\n",
        "  print(i)\n",
        "\n",
        "  i= i+1"
      ],
      "metadata": {
        "id": "Ydo5BlMCyFaT"
      }
    },
    {
      "cell_type": "code",
      "source": [
        ""
      ],
      "metadata": {
        "id": "WVFK88m4yyAt"
      },
      "execution_count": null,
      "outputs": []
    },
    {
      "cell_type": "markdown",
      "source": [
        "Q13. If you had a function named bacon() inside a module named spam, how would you call it after\n",
        "importing spam?\n",
        "\n",
        "Ans.spam.bacon()"
      ],
      "metadata": {
        "id": "jgbWHFHEzY4c"
      }
    }
  ]
}